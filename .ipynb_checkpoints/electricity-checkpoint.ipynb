{
 "cells": [
  {
   "cell_type": "code",
   "execution_count": 31,
   "metadata": {},
   "outputs": [
    {
     "name": "stdout",
     "output_type": "stream",
     "text": [
      "20210406 20200406\n"
     ]
    },
    {
     "data": {
      "text/plain": [
       "2020-04-06 02:00:00+02:00    42038.0\n",
       "2020-04-06 02:15:00+02:00    42040.0\n",
       "2020-04-06 02:30:00+02:00    42005.0\n",
       "2020-04-06 02:45:00+02:00    42014.0\n",
       "2020-04-06 03:00:00+02:00    42064.0\n",
       "                              ...   \n",
       "2021-04-06 00:45:00+02:00    45376.0\n",
       "2021-04-06 01:00:00+02:00    44921.0\n",
       "2021-04-06 01:15:00+02:00    44700.0\n",
       "2021-04-06 01:30:00+02:00    44428.0\n",
       "2021-04-06 01:45:00+02:00    44414.0\n",
       "Freq: 15T, Length: 35040, dtype: float64"
      ]
     },
     "execution_count": 31,
     "metadata": {},
     "output_type": "execute_result"
    }
   ],
   "source": [
    "# import libraries\n",
    "import pandas as pd\n",
    "from datetime import datetime, timedelta\n",
    "\n",
    "from entsoe import EntsoePandasClient # doc: https://github.com/EnergieID/entsoe-py\n",
    "\n",
    "# read token (stored in text file)\n",
    "with open('token.txt', 'r') as file:\n",
    "    data = file.read().replace('\\n', '')\n",
    "\n",
    "# connect to ENTSOE API\n",
    "client = EntsoePandasClient(api_key=data)\n",
    "\n",
    "# define start and end date and country code\n",
    "n_days_ago = (1*365)\n",
    "date_today = datetime.today() \n",
    "date_past = date_today - timedelta(days=n_days_ago)\n",
    "\n",
    "start = pd.Timestamp(date_past.strftime('%Y%m%d'), tz='UTC')\n",
    "end = pd.Timestamp(date_today.strftime('%Y%m%d'), tz='UTC')\n",
    "country_code = 'DE'  # Germany\n",
    "\n",
    "\n",
    "# methods that return Pandas DataFrames\n",
    "client.query_load(country_code, start=start,end=end)\n"
   ]
  },
  {
   "cell_type": "code",
   "execution_count": 15,
   "metadata": {},
   "outputs": [
    {
     "data": {
      "text/plain": [
       "'20210406'"
      ]
     },
     "execution_count": 15,
     "metadata": {},
     "output_type": "execute_result"
    }
   ],
   "source": [
    "from datetime import datetime as dt\n",
    "import datetime\n",
    "\n",
    "date_today = dt.today().strftime('%Y%m%d')\n",
    "# date_delta = dt.timedelta(days = (3*365))\n",
    "# date_past = date_today - date_delta\n",
    "\n",
    "date_today"
   ]
  },
  {
   "cell_type": "code",
   "execution_count": 18,
   "metadata": {},
   "outputs": [
    {
     "name": "stdout",
     "output_type": "stream",
     "text": [
      "20210406 20210401\n"
     ]
    }
   ],
   "source": [
    "from datetime import datetime, timedelta\n",
    "\n",
    "N_DAYS_AGO = 5\n",
    "\n",
    "today = datetime.now()    \n",
    "n_days_ago = today - timedelta(days=N_DAYS_AGO)\n",
    "print(today.strftime('%Y%m%d'), n_days_ago.strftime('%Y%m%d'))"
   ]
  },
  {
   "cell_type": "code",
   "execution_count": null,
   "metadata": {},
   "outputs": [],
   "source": []
  }
 ],
 "metadata": {
  "kernelspec": {
   "display_name": "Python 3",
   "language": "python",
   "name": "python3"
  },
  "language_info": {
   "codemirror_mode": {
    "name": "ipython",
    "version": 3
   },
   "file_extension": ".py",
   "mimetype": "text/x-python",
   "name": "python",
   "nbconvert_exporter": "python",
   "pygments_lexer": "ipython3",
   "version": "3.8.5"
  }
 },
 "nbformat": 4,
 "nbformat_minor": 4
}
